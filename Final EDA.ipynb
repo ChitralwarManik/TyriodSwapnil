{
 "cells": [
  {
   "cell_type": "code",
   "execution_count": 1,
   "id": "325daf2e",
   "metadata": {},
   "outputs": [],
   "source": [
    "import pandas as pd\n",
    "import numpy as np\n",
    "import matplotlib.pyplot as plot\n",
    "import seaborn as sns\n",
    "import os\n",
    "from sklearn.utils import resample\n",
    "from imblearn.over_sampling import SMOTENC,RandomOverSampler,KMeansSMOTE\n",
    "from sklearn.impute import KNNImputer\n",
    "from sklearn.preprocessing import LabelEncoder\n",
    "import pickle"
   ]
  },
  {
   "cell_type": "code",
   "execution_count": 2,
   "id": "503cb181",
   "metadata": {},
   "outputs": [],
   "source": [
    "data  = pd.read_csv('hypothyroid.csv')"
   ]
  },
  {
   "cell_type": "code",
   "execution_count": 3,
   "id": "c2e7d9b5",
   "metadata": {},
   "outputs": [],
   "source": [
    "data = data.drop(['TBG'],axis =1)"
   ]
  },
  {
   "cell_type": "code",
   "execution_count": 4,
   "id": "9aae1a2a",
   "metadata": {},
   "outputs": [],
   "source": [
    "data = data.drop(['TSH_measured','T3_measured','TT4_measured','T4U_measured','FTI_measured','TBG_measured'],axis =1)"
   ]
  },
  {
   "cell_type": "code",
   "execution_count": 5,
   "id": "cb73b6ed",
   "metadata": {},
   "outputs": [],
   "source": [
    "# Now let's replace the '?' values with numpy nan\n",
    "for column in data.columns:\n",
    "    count = data[column][data[column]=='?'].count()\n",
    "    if count!=0:\n",
    "        data[column] = data[column].replace('?',np.nan)    "
   ]
  },
  {
   "cell_type": "code",
   "execution_count": 6,
   "id": "9ea4b6db",
   "metadata": {},
   "outputs": [],
   "source": [
    "# We can map the categorical values like below:\n",
    "data['sex'] = data['sex'].map({'F' : 0, 'M' : 1})\n",
    "\n",
    "# except for 'Sex' column all the other columns with two categorical data have same value 'f' and 't'.\n",
    "# so instead of mapping indvidually, let's do a smarter work\n",
    "for column in data.columns:\n",
    "    if  len(data[column].unique())==2:\n",
    "        data[column] = data[column].map({'f' : 0, 't' : 1})\n",
    "        \n",
    "# this will map all the rest of the columns as we require. Now there are handful of column left with more than 2 categories. \n"
   ]
  },
  {
   "cell_type": "code",
   "execution_count": 7,
   "id": "f65c927b",
   "metadata": {},
   "outputs": [],
   "source": [
    "data = pd.get_dummies(data, columns=['referral_source'])"
   ]
  },
  {
   "cell_type": "code",
   "execution_count": 8,
   "id": "0aff0be0",
   "metadata": {},
   "outputs": [],
   "source": [
    "lblEn = LabelEncoder()\n",
    "\n",
    "data['Class'] =lblEn.fit_transform(data['Class'])"
   ]
  },
  {
   "cell_type": "code",
   "execution_count": 9,
   "id": "98e76958",
   "metadata": {},
   "outputs": [],
   "source": [
    "imputer=KNNImputer(n_neighbors=3, weights='uniform',missing_values=np.nan)\n",
    "new_array=imputer.fit_transform(data) # impute the missing values\n",
    "    # convert the nd-array returned in the step above to a Dataframe\n",
    "new_data=pd.DataFrame(data=np.round(new_array), columns=data.columns)"
   ]
  },
  {
   "cell_type": "code",
   "execution_count": 10,
   "id": "ea7c2493",
   "metadata": {},
   "outputs": [],
   "source": [
    "new_data = new_data.drop(['TSH'],axis=1)"
   ]
  },
  {
   "cell_type": "code",
   "execution_count": 14,
   "id": "7f287e33",
   "metadata": {},
   "outputs": [],
   "source": [
    "from sklearn.model_selection import train_test_split\n",
    "\n",
    "X = new_data.drop(['Class'],axis=1)\n",
    "y = new_data['Class']\n",
    "\n",
    "X_train, X_test, y_train, y_test = train_test_split(X, y, test_size=0.30, random_state=0)\n",
    "\n",
    "# Creating Random Forest Model\n",
    "from sklearn.model_selection import train_test_split\n",
    "X_train,X_test,y_train,y_test = train_test_split(X,y,test_size=1/3,random_state=42, stratify=y)"
   ]
  },
  {
   "cell_type": "code",
   "execution_count": 15,
   "id": "d94296a3",
   "metadata": {},
   "outputs": [
    {
     "data": {
      "text/plain": [
       "RandomForestClassifier(random_state=10)"
      ]
     },
     "execution_count": 15,
     "metadata": {},
     "output_type": "execute_result"
    }
   ],
   "source": [
    "from sklearn.ensemble import RandomForestClassifier\n",
    "random_forest_model = RandomForestClassifier(random_state=10)\n",
    "random_forest_model.fit(X_train, y_train.ravel())"
   ]
  },
  {
   "cell_type": "code",
   "execution_count": 16,
   "id": "3aa3c043",
   "metadata": {},
   "outputs": [
    {
     "name": "stdout",
     "output_type": "stream",
     "text": [
      "Accuracy = 0.933\n"
     ]
    }
   ],
   "source": [
    "predict_train_data = random_forest_model.predict(X_test)\n",
    "\n",
    "from sklearn import metrics\n",
    "\n",
    "print(\"Accuracy = {0:.3f}\".format(metrics.accuracy_score(y_test, predict_train_data)))"
   ]
  },
  {
   "cell_type": "code",
   "execution_count": 17,
   "id": "695644f5",
   "metadata": {},
   "outputs": [],
   "source": [
    "filename = 'tyroid-prediction-model-final.pkl'\n",
    "pickle.dump(random_forest_model, open(filename, 'wb'))"
   ]
  },
  {
   "cell_type": "code",
   "execution_count": 19,
   "id": "75ac40d4",
   "metadata": {},
   "outputs": [
    {
     "name": "stdout",
     "output_type": "stream",
     "text": [
      "Note: you may need to restart the kernel to use updated packages.\n"
     ]
    }
   ],
   "source": [
    "pip freeze > requirements.txt"
   ]
  },
  {
   "cell_type": "code",
   "execution_count": null,
   "id": "46985ea9",
   "metadata": {},
   "outputs": [],
   "source": []
  }
 ],
 "metadata": {
  "kernelspec": {
   "display_name": "Python 3",
   "language": "python",
   "name": "python3"
  },
  "language_info": {
   "codemirror_mode": {
    "name": "ipython",
    "version": 3
   },
   "file_extension": ".py",
   "mimetype": "text/x-python",
   "name": "python",
   "nbconvert_exporter": "python",
   "pygments_lexer": "ipython3",
   "version": "3.8.8"
  }
 },
 "nbformat": 4,
 "nbformat_minor": 5
}
